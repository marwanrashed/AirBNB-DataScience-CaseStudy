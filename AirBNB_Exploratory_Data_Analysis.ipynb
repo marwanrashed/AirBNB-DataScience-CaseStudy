{
 "nbformat": 4,
 "nbformat_minor": 2,
 "metadata": {
  "language_info": {
   "name": "python",
   "codemirror_mode": {
    "name": "ipython",
    "version": 3
   },
   "version": "2.7.17-final"
  },
  "orig_nbformat": 2,
  "file_extension": ".py",
  "mimetype": "text/x-python",
  "name": "python",
  "npconvert_exporter": "python",
  "pygments_lexer": "ipython3",
  "version": 3,
  "kernelspec": {
   "name": "python271764bitrosenvcondaa4e6b79d35ec4c5485ec85bc6e9382ee",
   "display_name": "Python 2.7.17 64-bit ('ros_env': conda)"
  }
 },
 "cells": [
  {
   "cell_type": "markdown",
   "execution_count": null,
   "metadata": {},
   "outputs": [],
   "source": [
    "# Boston and Seattle AirBNB Data Science Case Study"
   ]
  },
  {
   "cell_type": "markdown",
   "execution_count": null,
   "metadata": {},
   "outputs": [],
   "source": [
    "***This analysis follow the Cross-Industry Standard Process for Data Mining (CRISP-DM). This means it will follow the following steps interchangbly:***\n",
    "* Business Understanding.\n",
    "* Data Understanding.\n",
    "* Data Preparation. \n",
    "* Modelling. \n",
    "* Evaluation.\n",
    "* Deployment\n",
    "---\n",
    "Let's start with the first step, which is Understanding the main problem and asking the questions that mainly tackle the problem.\n",
    "\n",
    "## Business Understanding\n",
    "This dataset contains information and attributes of AirBNB listings. The listings are accompained with various features that can give us different insight about the AirBNB short-term rental business. However, we are mainly interested in the price to be our reponse variable. So that we will use the other features in relation with the price to answer the following questions:\n",
    "\n",
    "1. What is the price average for the listed neighbourhoods indvidually ? Which neighbourhood has the maximum/minuimum price ?\n",
    "1. Does the neighbourhood affects the listing price ?\n",
    "1. Does the price fluctuates based on the month/ season of the year ? \n",
    "1. Do hosts with various/single listings tend to stabilize prices or change them frequently ?\n",
    "1. What impact do the host attributes (superhost, acceptance rate, ..., etc) have on the price ?\n",
    "1. What is the relationship between the property attributes and the price ?   \n",
    "\n",
    "---\n",
    "\n",
    "## Data Understanding \n",
    "In this section we will try to answer the questions using the data attributes and features. \n",
    "* What is the price average for the listed neighbourhoods indvidually ? Which neighbourhood has the maximum/minuimum price ?\n",
    "\n",
    "**This question can be answered by grouping the dataframe by the neighbourhood and finding the average of the price for each neighbourhood.**\n",
    "* Does the neighbourhood affects the listing price ?\n",
    "\n",
    "**We will visualize the price average distribution with the neigbourhood, in order to find out a probable relationship between the price and neighbourhoods.**\n",
    "* Does the price fluctuates based on the month/ season of the year ? \n",
    "\n",
    "**The listing dates will be formatted as datetime and new features (month, year, week days) will be added in order to find out the relationship.**\n",
    "\n",
    "* Do hosts with various/single listings tend to stabilize prices or change them frequently ?\n",
    "\n",
    "**we will need to access the 'host_listings_count' column and the price column to answer this question.**\n",
    "\n",
    "* What impact do the host attributes (superhost, acceptance rate, ..., etc) have on the price ?\n",
    "\n",
    "**we will compare some numerical columns that evaluates the host with the price column to see if they have an effect on the price. These columns are: 'host_response_rate',\n",
    " 'host_acceptance_rate',\n",
    " 'host_is_superhost','review_scores_rating'.**\n",
    "\n",
    "* What is the relationship between the property attributes and the price ?  \n",
    "\n",
    "**we will compare some numerical columns that evaluates the property with the price column to see if they have an effect on the price. These columns are: 'property_type',\n",
    " 'room_type',\n",
    " 'accommodates',\n",
    " 'bathrooms',\n",
    " 'bedrooms',\n",
    " 'beds',\n",
    " 'bed_type',\n",
    " 'amenities'.**\n",
    "  \n",
    "---\n",
    "## Data Preparation \n",
    "\n",
    "Firstly, the main file of interest is the listings csv. The dataset will go through the following process: \n",
    "\n",
    "1. Check for columns of interest according to the above mentioned questions and drop the other columns. \n",
    "1. Check for the missing values and deal with it based on each case indivdiually. (imputing/remocing or creating new features out of them.)\n",
    "1. Confirm or change the data type of each column as needed. \n",
    "1. Create new dataframes to answer each question individually using visualization and statistical analysis. \n",
    "1. Merge datasets and adapt categorical/string columns for data modelling (machine learning prediction of the price). \n"
   ]
  },
  {
   "cell_type": "code",
   "execution_count": 1,
   "metadata": {},
   "outputs": [],
   "source": [
    "import pandas as pd\n",
    "import matplotlib.pyplot as plt\n",
    "import numpy as np\n",
    "import seaborn as sns\n",
    "import sklearn as sk\n",
    "%matplotlib inline"
   ]
  },
  {
   "cell_type": "code",
   "execution_count": 2,
   "metadata": {},
   "outputs": [],
   "source": [
    "# Load Boston Datasets\n",
    "BostonCalendar = pd.read_csv('BostonAirBNB/BostonCalendar.csv')\n",
    "BostonListing = pd.read_csv('BostonAirBNB/BostonListings.csv')\n",
    "BostonReview = pd.read_csv('BostonAirBNB/BostonReviews.csv')"
   ]
  },
  {
   "cell_type": "code",
   "execution_count": 3,
   "metadata": {},
   "outputs": [
    {
     "name": "stdout",
     "output_type": "stream",
     "text": "('Boston Dataset Sizes: ', (1308890, 3585, 68275))\n"
    }
   ],
   "source": [
    "print ('Boston Dataset Sizes: ', (BostonCalendar.shape[0],\n",
    "        BostonListing.shape[0], BostonReview.shape[0]))"
   ]
  },
  {
   "cell_type": "code",
   "execution_count": 5,
   "metadata": {},
   "outputs": [
    {
     "name": "stdout",
     "output_type": "stream",
     "text": "('Boston Dataset number of uniques: ', (5198, 71125, 219024))\n"
    }
   ],
   "source": [
    "print ('Boston Dataset number of uniques: ', (BostonCalendar.nunique().sum(),\n",
    "        BostonListing.nunique().sum(), BostonReview.nunique().sum()))"
   ]
  },
  {
   "cell_type": "code",
   "execution_count": 19,
   "metadata": {},
   "outputs": [],
   "source": [
    "BostonListing.rename(  columns = {'id':'listing_id'}, inplace = True)"
   ]
  },
  {
   "cell_type": "code",
   "execution_count": 21,
   "metadata": {},
   "outputs": [],
   "source": [
    "Merged_df = pd.merge(BostonCalender, BostonListing, on = 'listing_id')"
   ]
  },
  {
   "cell_type": "code",
   "execution_count": 22,
   "metadata": {},
   "outputs": [
    {
     "data": {
      "text/plain": "1308890"
     },
     "execution_count": 22,
     "metadata": {},
     "output_type": "execute_result"
    }
   ],
   "source": [
    "Merged_df.shape[0]"
   ]
  },
  {
   "cell_type": "code",
   "execution_count": 26,
   "metadata": {},
   "outputs": [
    {
     "data": {
      "text/plain": "95"
     },
     "execution_count": 26,
     "metadata": {},
     "output_type": "execute_result"
    }
   ],
   "source": [
    "len(list(BostonListing.columns))"
   ]
  },
  {
   "cell_type": "code",
   "execution_count": null,
   "metadata": {},
   "outputs": [],
   "source": []
  },
  {
   "cell_type": "code",
   "execution_count": null,
   "metadata": {},
   "outputs": [],
   "source": []
  },
  {
   "cell_type": "code",
   "execution_count": null,
   "metadata": {},
   "outputs": [],
   "source": []
  },
  {
   "cell_type": "code",
   "execution_count": null,
   "metadata": {},
   "outputs": [],
   "source": []
  },
  {
   "cell_type": "code",
   "execution_count": null,
   "metadata": {},
   "outputs": [],
   "source": []
  },
  {
   "cell_type": "code",
   "execution_count": null,
   "metadata": {},
   "outputs": [],
   "source": []
  },
  {
   "cell_type": "code",
   "execution_count": null,
   "metadata": {},
   "outputs": [],
   "source": []
  },
  {
   "cell_type": "code",
   "execution_count": null,
   "metadata": {},
   "outputs": [],
   "source": []
  },
  {
   "cell_type": "code",
   "execution_count": null,
   "metadata": {},
   "outputs": [],
   "source": []
  },
  {
   "cell_type": "code",
   "execution_count": null,
   "metadata": {},
   "outputs": [],
   "source": []
  }
 ]
}